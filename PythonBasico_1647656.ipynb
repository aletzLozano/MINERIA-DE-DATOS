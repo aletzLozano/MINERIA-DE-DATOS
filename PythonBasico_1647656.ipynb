{
 "cells": [
  {
   "cell_type": "code",
   "execution_count": 1,
   "metadata": {},
   "outputs": [
    {
     "name": "stdout",
     "output_type": "stream",
     "text": [
      "Omar Alejandro Delgado Lozano 1647656\n"
     ]
    }
   ],
   "source": [
    "matricula= '1647656'\n",
    "nombre= \"Omar Alejandro Delgado Lozano\"\n",
    "print(nombre,matricula)"
   ]
  },
  {
   "cell_type": "code",
   "execution_count": 2,
   "metadata": {},
   "outputs": [
    {
     "name": "stdout",
     "output_type": "stream",
     "text": [
      "Primer numero:  5\n",
      "Segundo numero:  4\n",
      "Suma =  9\n",
      "Resta =  1\n",
      "Multiplicacion =   20\n",
      "Division: =  1.25\n",
      "Exponente: =  625\n"
     ]
    }
   ],
   "source": [
    "b=int(input(\"Primer numero:  \"))\n",
    "a=int(input(\"Segundo numero:  \"))\n",
    "suma=b+a\n",
    "res=b-a\n",
    "mul=b*a\n",
    "div=b/a\n",
    "exp=b**a\n",
    "print(\"Suma = \",+suma)\n",
    "print(\"Resta = \", +res)\n",
    "print(\"Multiplicacion =  \", +mul)\n",
    "print(\"Division: = \", +div)\n",
    "print(\"Exponente: = \", +exp)"
   ]
  },
  {
   "cell_type": "code",
   "execution_count": 3,
   "metadata": {},
   "outputs": [
    {
     "name": "stdout",
     "output_type": "stream",
     "text": [
      "[3, 6, 9, 12, 15, 18, 21, 24, 27, 30]\n",
      "165\n"
     ]
    }
   ],
   "source": [
    "lista = []\n",
    "suma_lista = 0\n",
    "for i in range(1,11):\n",
    "    lista.append(i*3)\n",
    "print(lista)\n",
    "\n",
    "for i in lista:\n",
    "    suma_lista = suma_lista+i\n",
    "print(suma_lista)"
   ]
  },
  {
   "cell_type": "code",
   "execution_count": 4,
   "metadata": {},
   "outputs": [
    {
     "name": "stdout",
     "output_type": "stream",
     "text": [
      "Ingresa un numero:  8\n",
      "El numero si es par\n"
     ]
    }
   ],
   "source": [
    "num=int(input(\"Ingresa un numero:  \"))\n",
    "if (num % 2 ==0):\n",
    "    print(\"El numero si es par\")\n",
    "else:\n",
    "    print(\"El numero si es impar\")"
   ]
  },
  {
   "cell_type": "code",
   "execution_count": 5,
   "metadata": {},
   "outputs": [
    {
     "name": "stdout",
     "output_type": "stream",
     "text": [
      "Introduzca un numero entero mayor a 0: 69\n",
      "El numero no es primo\n"
     ]
    }
   ],
   "source": [
    "i = 0\n",
    "num = int(input(\"Introduzca un numero entero mayor a 0: \"))\n",
    "cont = 0\n",
    "for i in range(2, num):\n",
    "    if num % i == 0:\n",
    "        cont = cont + 1\n",
    "    else:\n",
    "        continue\n",
    "        \n",
    "if cont > 0:\n",
    "    print(\"El numero no es primo\")\n",
    "elif cont == 0:\n",
    "    print(\"El numero es primo\")"
   ]
  },
  {
   "cell_type": "code",
   "execution_count": 6,
   "metadata": {},
   "outputs": [
    {
     "name": "stdout",
     "output_type": "stream",
     "text": [
      "Ingresa un numero  7\n",
      "Ingresa otro numero  9\n",
      "Suma=  16\n",
      "Resta=  -2\n",
      "Multiplicacion=  63\n",
      "Division=  0.7777777777777778\n",
      "Exponente=  40353607\n"
     ]
    }
   ],
   "source": [
    "def Suma(a,b):\n",
    "    resultado=a+b\n",
    "    return(resultado)\n",
    "def Resta(a,b):\n",
    "    resultado=a-b\n",
    "    return(resultado)\n",
    "def Multiplicacion(a,b):\n",
    "    resultado=a*b\n",
    "    return(resultado)\n",
    "def Division(a,b):\n",
    "    resultado=a/b\n",
    "    return(resultado)\n",
    "def Exponente(a,b):\n",
    "    resultado=a**b\n",
    "    return(resultado)\n",
    "a=int(input(\"Ingresa un numero  \"))\n",
    "b=int(input(\"Ingresa otro numero  \"))\n",
    "print(\"Suma= \",Suma(a,b))\n",
    "print(\"Resta= \",Resta(a,b))\n",
    "print(\"Multiplicacion= \",Multiplicacion(a,b))\n",
    "print(\"Division= \",Division(a,b))\n",
    "print(\"Exponente= \",Exponente(a,b))"
   ]
  },
  {
   "cell_type": "code",
   "execution_count": 7,
   "metadata": {},
   "outputs": [
    {
     "name": "stdout",
     "output_type": "stream",
     "text": [
      "1.2 es de tipo <class 'float'>\n",
      "2 es de tipo <class 'int'>\n",
      "True es de tipo <class 'bool'>\n",
      "(2+1j) es de tipo <class 'complex'>\n"
     ]
    }
   ],
   "source": [
    "#Tuplas\n",
    "\n",
    "a=1.2\n",
    "b=2\n",
    "c=True\n",
    "d= 1j+2\n",
    "print(a, \"es de tipo\", type(a))\n",
    "print(b, \"es de tipo\", type(b))\n",
    "print(c, \"es de tipo\", type(c))\n",
    "print(d, \"es de tipo\", type(d))"
   ]
  },
  {
   "cell_type": "code",
   "execution_count": 8,
   "metadata": {},
   "outputs": [
    {
     "name": "stdout",
     "output_type": "stream",
     "text": [
      "(1, 2, 3, 4, 5)\n",
      "Primero:  1\n",
      "Ultimo:  5\n"
     ]
    }
   ],
   "source": [
    "tupla = (1, 2, 3, 4, 5)\n",
    "print(tupla)\n",
    "print(\"Primero: \", tupla[0])\n",
    "print(\"Ultimo: \", tupla[4])"
   ]
  },
  {
   "cell_type": "code",
   "execution_count": 9,
   "metadata": {},
   "outputs": [
    {
     "data": {
      "text/plain": [
       "(1, 2, 3, 4, 5, 'uno', 'dos', 'tres')"
      ]
     },
     "execution_count": 9,
     "metadata": {},
     "output_type": "execute_result"
    }
   ],
   "source": [
    "tupla = tupla.__add__(('uno','dos','tres'))\n",
    "tupla"
   ]
  },
  {
   "cell_type": "code",
   "execution_count": 10,
   "metadata": {},
   "outputs": [
    {
     "name": "stdout",
     "output_type": "stream",
     "text": [
      "Si se encuentra en la tupla\n"
     ]
    }
   ],
   "source": [
    "prueb = 'dos'\n",
    "if prueb in tupla:\n",
    "    print(\"Si se encuentra en la tupla\")\n",
    "else:\n",
    "    print(\"No se encuentra en la tupla\")"
   ]
  },
  {
   "cell_type": "code",
   "execution_count": 11,
   "metadata": {},
   "outputs": [],
   "source": [
    "#Listas\n",
    "\n",
    "import numpy as np\n",
    "l1=[]\n",
    "for i in range(0,41):\n",
    "    l1.append(np.random.randint(0,40))"
   ]
  },
  {
   "cell_type": "code",
   "execution_count": 12,
   "metadata": {},
   "outputs": [
    {
     "name": "stdout",
     "output_type": "stream",
     "text": [
      "Lista Pares:  [6, 32, 0, 24, 18, 6, 18, 16, 26, 30, 10, 18, 32, 34, 36, 18, 38, 20, 2]\n",
      "Lista Impares:  [37, 29, 9, 17, 23, 17, 21, 7, 19, 15, 23, 19, 17, 21, 11, 39, 1, 15, 25, 37, 19, 19]\n"
     ]
    }
   ],
   "source": [
    "def Lista1(l1):\n",
    "    l2=[]\n",
    "    for i in range (0,41):\n",
    "        if (l1[i] % 2 == 0):\n",
    "            l2.append(l1[i])\n",
    "    return (l2)\n",
    "def Lista2(l1):\n",
    "    l3=[]\n",
    "    for i in range (0,41):\n",
    "        if (l1[i] % 2 != 0):\n",
    "            l3.append(l1[i])\n",
    "    return(l3)\n",
    "print(\"Lista Pares: \",Lista1(l1))\n",
    "print(\"Lista Impares: \",Lista2(l1))"
   ]
  },
  {
   "cell_type": "code",
   "execution_count": 13,
   "metadata": {},
   "outputs": [
    {
     "name": "stdout",
     "output_type": "stream",
     "text": [
      "19 22\n"
     ]
    }
   ],
   "source": [
    "a=len(Lista1(l1))\n",
    "b=len(Lista2(l1))\n",
    "print(a,b)"
   ]
  },
  {
   "cell_type": "code",
   "execution_count": 14,
   "metadata": {},
   "outputs": [
    {
     "name": "stdout",
     "output_type": "stream",
     "text": [
      "Lista de Pares:  [38, 36, 34, 32, 32, 30, 26, 24, 20, 18, 18, 18, 18, 16, 10, 6, 6, 2, 0]\n",
      "Lista de Impares:  [1, 7, 9, 11, 15, 15, 17, 17, 17, 19, 19, 19, 19, 21, 21, 23, 23, 25, 29, 37, 37, 39]\n"
     ]
    }
   ],
   "source": [
    "par=Lista1(l1)\n",
    "impar=Lista2(l1)\n",
    "par.sort(reverse=True)\n",
    "impar.sort()\n",
    "print(\"Lista de Pares: \",par)\n",
    "print(\"Lista de Impares: \",impar)"
   ]
  },
  {
   "cell_type": "code",
   "execution_count": 15,
   "metadata": {},
   "outputs": [
    {
     "name": "stdout",
     "output_type": "stream",
     "text": [
      "Antes:  [37, 29, 6, 9, 17, 23, 32, 17, 0, 24, 18, 21, 6, 18, 7, 19, 16, 26, 15, 23, 19, 30, 17, 10, 18, 32, 21, 11, 39, 34, 1, 36, 15, 18, 25, 38, 20, 2, 37, 19, 19]\n",
      "Despues:  [19, 19, 5, 2, 20, 38, 25, 18, 15, 36, 1, 34, 39, 11, 21, 32, 18, 10, 17, 30, 19, 23, 15, 26, 16, 19, 7, 18, 6, 21, 18, 24, 0, 17, 32, 23, 17, 9, 6, 29, 37, 67]\n"
     ]
    }
   ],
   "source": [
    "print(\"Antes: \",l1,)\n",
    "l1.reverse()\n",
    "l1.pop(2)\n",
    "l1.insert(2,5)\n",
    "l1.append(67)\n",
    "print(\"Despues: \",l1,)"
   ]
  },
  {
   "cell_type": "code",
   "execution_count": 19,
   "metadata": {},
   "outputs": [
    {
     "name": "stdout",
     "output_type": "stream",
     "text": [
      "{'Angel': 24, 'Cecilia': 21, 'leon': 28, 'Pedro': 22, 'Alejandro': 25, 'Dalila': 23}\n"
     ]
    }
   ],
   "source": [
    "#Diccionarios\n",
    "dict_1 = {'Angel': 24, 'Cecilia': 21, 'leon': 28, 'Pedro': 22, 'Alejandro':25, 'Dalila':23}\n",
    "print(diction)"
   ]
  },
  {
   "cell_type": "code",
   "execution_count": 20,
   "metadata": {},
   "outputs": [
    {
     "name": "stdout",
     "output_type": "stream",
     "text": [
      "Lista de menor a mayor: [28, 25, 24, 23, 22, 21]\n"
     ]
    }
   ],
   "source": [
    "lista_oredenada = sorted(list(dict_1.values()), reverse=True)\n",
    "print(\"Lista de menor a mayor:\", lista_oredenada)"
   ]
  },
  {
   "cell_type": "code",
   "execution_count": 21,
   "metadata": {},
   "outputs": [
    {
     "name": "stdout",
     "output_type": "stream",
     "text": [
      "Angel\n",
      "Cecilia\n",
      "leon\n",
      "Pedro\n",
      "Alejandro\n",
      "Dalila\n"
     ]
    }
   ],
   "source": [
    "for i in dict_1:\n",
    "    print(i)"
   ]
  },
  {
   "cell_type": "code",
   "execution_count": 22,
   "metadata": {},
   "outputs": [
    {
     "name": "stdout",
     "output_type": "stream",
     "text": [
      "Diccionario actualizado: \n",
      " {'Angel': 24, 'Cecilia': 21, 'leon': 28, 'Pedro': 22, 'Alejandro': 25, 'Dalila': 23, 'Jose': 29, 'Mario': 17}\n"
     ]
    }
   ],
   "source": [
    "dict_1['Jose'] = 29\n",
    "dict_1['Mario'] = 17\n",
    "print(\"Diccionario actualizado: \\n\", dict_1,)"
   ]
  },
  {
   "cell_type": "code",
   "execution_count": 23,
   "metadata": {},
   "outputs": [
    {
     "name": "stdout",
     "output_type": "stream",
     "text": [
      "{1, 2, 3, 4, 5, 6, 7, 8, 9, 11, 12, 13, 14, 15, 16, 17, 18, 19, 20, 21, 23, 24, 25}\n"
     ]
    }
   ],
   "source": [
    "#Sets\n",
    "import random as r\n",
    "set_1 = set()\n",
    "for i in range(0, 100):\n",
    "    set_1.add(r.randint(1, 25))\n",
    "print(set_1)"
   ]
  },
  {
   "cell_type": "code",
   "execution_count": 24,
   "metadata": {},
   "outputs": [
    {
     "name": "stdout",
     "output_type": "stream",
     "text": [
      "La longitud del set es de:  23\n"
     ]
    }
   ],
   "source": [
    "print(\"La longitud del set es de: \", len(set_1))"
   ]
  },
  {
   "cell_type": "code",
   "execution_count": 25,
   "metadata": {},
   "outputs": [
    {
     "name": "stdout",
     "output_type": "stream",
     "text": [
      "El elemento 7 si se encuentra en el set inicial\n",
      "El elemento 2 si se encuentra en el set inicial\n",
      "El elemento 6 si se encuentra en el set inicial\n",
      "El elemento 4 si se encuentra en el set inicial\n",
      "El elemento 3 si se encuentra en el set inicial\n",
      "[7, 2, 6, 4, 3]\n"
     ]
    }
   ],
   "source": [
    "import random as r\n",
    "lista_aleatoria = []\n",
    "for i in range(0, 5):\n",
    "    lista_aleatoria.append(r.randint(1, 10))\n",
    "    \n",
    "for i in lista_aleatoria:\n",
    "    if i in set_1:\n",
    "        print(\"El elemento %d si se encuentra en el set inicial\" %(i))\n",
    "    else:\n",
    "        print(\"El elemento %d no se encuentra en el set incial\" %(i))\n",
    "    \n",
    "print(lista_aleatoria)"
   ]
  },
  {
   "cell_type": "code",
   "execution_count": 26,
   "metadata": {},
   "outputs": [],
   "source": [
    "#Linkografia\n",
    "#https://www.programiz.com/python-programming/list  (listas)\n",
    "#https://docs.python.org/3/tutorial/datastructures.html (Diccionarios)\n",
    "#https://www.tutorialspoint.com/python/python_tuples.htm (Tuplas)\n",
    "#https://www.programiz.com/python-programming/set (stets)\n",
    "#https://programacion.net/articulo/20_librerias_de_python_que_son_sencillamente_irresistibles_1061 (use como base porque no entendia en algunos textos)\n"
   ]
  },
  {
   "cell_type": "code",
   "execution_count": null,
   "metadata": {},
   "outputs": [],
   "source": []
  }
 ],
 "metadata": {
  "kernelspec": {
   "display_name": "Python 3",
   "language": "python",
   "name": "python3"
  },
  "language_info": {
   "codemirror_mode": {
    "name": "ipython",
    "version": 3
   },
   "file_extension": ".py",
   "mimetype": "text/x-python",
   "name": "python",
   "nbconvert_exporter": "python",
   "pygments_lexer": "ipython3",
   "version": "3.8.3"
  }
 },
 "nbformat": 4,
 "nbformat_minor": 4
}
