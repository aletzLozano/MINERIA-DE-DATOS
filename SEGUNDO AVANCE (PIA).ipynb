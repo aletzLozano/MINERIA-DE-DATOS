{
 "cells": [
  {
   "cell_type": "markdown",
   "metadata": {},
   "source": [
    "# Segundo avanze del PIA\n",
    "\n",
    "## Equipo 2\n",
    "                    Grupo 012, martes y jueves de 18:30 a 20:00 hrs\n",
    "    Integrantes:\n",
    "        1395501 Jose Pedro Treviño Hernandez\n",
    "        1647656 Omar Alejandro Delgado Lozano\n",
    "\n",
    "Buen Dia, en esta base de datos mi equipo decidio manejar la informacion de la aplicacion \"Trip Advisor Hotel Reviews\" para brindar una base de la infromacion que nos puede proporcionar la aplicacion en su basta cantidad de mas 10,000 opiniones de diferentes personas.\n",
    "\n",
    "Nosotros nos apoyamos con pandas, natural lenguage toolkit y derivados que vamos a mostrar en la siguiente seccion."
   ]
  },
  {
   "cell_type": "markdown",
   "metadata": {},
   "source": [
    "# BASE DE DATOS: Trip Advisor Hotel Reviews"
   ]
  },
  {
   "cell_type": "markdown",
   "metadata": {},
   "source": [
    "La base de datos de Trip Advisor Hotel Reviews contiene mas de 20,000 reseñas de diferentes hoteles ademas de calificaciones dadas por los huspedes."
   ]
  },
  {
   "cell_type": "code",
   "execution_count": 35,
   "metadata": {},
   "outputs": [],
   "source": [
    "#librerias necesarias\n",
    "import pandas as pd\n",
    "import seaborn as sns\n",
    "import re \n",
    "import nltk \n",
    "from nltk import word_tokenize,sent_tokenize\n",
    "import nltk as nlp\n",
    "import matplotlib as plt\n",
    "import numpy as np \n",
    "from nltk.stem.porter import PorterStemmer\n",
    "from nltk.corpus import stopwords\n",
    "#from smartcloud import smartCloud \n",
    "#import plotly.graph_objects as go\n",
    "#import plotly.express as px\n",
    "#import plotly.figure_factory as ff\n",
    "import missingno as msno\n",
    "import warnings\n",
    "warnings.filterwarnings(\"ignore\")\n",
    "import plotly.graph_objects as go\n",
    "#import plotly.express as px\n",
    "import spacy\n",
    "import tensorflow as tf\n",
    "from wordcloud import WordCloud, STOPWORDS \n",
    "import ktrain\n",
    "from ktrain import text\n",
    "\n",
    "from collections import Counter\n",
    "%matplotlib inline"
   ]
  },
  {
   "cell_type": "markdown",
   "metadata": {},
   "source": [
    "Se planea usar estas librerrias ya que son las que satisfacen las necesidades de busqueda de palabras y almacenamiento de ellas,ademas de ayudarnos para la visualizacion de datos en forma de graficos. \n",
    "por lo tanto dichas librerias son las que se estaran manejando."
   ]
  },
  {
   "cell_type": "markdown",
   "metadata": {},
   "source": [
    "### Base de datos\n",
    "Aqui se despliega la base de datos que seleccionamos \n",
    "https://www.kaggle.com/andrewmvd/trip-advisor-hotel-reviews"
   ]
  },
  {
   "cell_type": "code",
   "execution_count": 36,
   "metadata": {
    "scrolled": true
   },
   "outputs": [
    {
     "data": {
      "text/html": [
       "<div>\n",
       "<style scoped>\n",
       "    .dataframe tbody tr th:only-of-type {\n",
       "        vertical-align: middle;\n",
       "    }\n",
       "\n",
       "    .dataframe tbody tr th {\n",
       "        vertical-align: top;\n",
       "    }\n",
       "\n",
       "    .dataframe thead th {\n",
       "        text-align: right;\n",
       "    }\n",
       "</style>\n",
       "<table border=\"1\" class=\"dataframe\">\n",
       "  <thead>\n",
       "    <tr style=\"text-align: right;\">\n",
       "      <th></th>\n",
       "      <th>Review</th>\n",
       "      <th>Rating</th>\n",
       "    </tr>\n",
       "  </thead>\n",
       "  <tbody>\n",
       "    <tr>\n",
       "      <th>0</th>\n",
       "      <td>nice hotel expensive parking got good deal sta...</td>\n",
       "      <td>4</td>\n",
       "    </tr>\n",
       "    <tr>\n",
       "      <th>1</th>\n",
       "      <td>ok nothing special charge diamond member hilto...</td>\n",
       "      <td>2</td>\n",
       "    </tr>\n",
       "    <tr>\n",
       "      <th>2</th>\n",
       "      <td>nice rooms not 4* experience hotel monaco seat...</td>\n",
       "      <td>3</td>\n",
       "    </tr>\n",
       "    <tr>\n",
       "      <th>3</th>\n",
       "      <td>unique, great stay, wonderful time hotel monac...</td>\n",
       "      <td>5</td>\n",
       "    </tr>\n",
       "    <tr>\n",
       "      <th>4</th>\n",
       "      <td>great stay great stay, went seahawk game aweso...</td>\n",
       "      <td>5</td>\n",
       "    </tr>\n",
       "    <tr>\n",
       "      <th>...</th>\n",
       "      <td>...</td>\n",
       "      <td>...</td>\n",
       "    </tr>\n",
       "    <tr>\n",
       "      <th>20486</th>\n",
       "      <td>best kept secret 3rd time staying charm, not 5...</td>\n",
       "      <td>5</td>\n",
       "    </tr>\n",
       "    <tr>\n",
       "      <th>20487</th>\n",
       "      <td>great location price view hotel great quick pl...</td>\n",
       "      <td>4</td>\n",
       "    </tr>\n",
       "    <tr>\n",
       "      <th>20488</th>\n",
       "      <td>ok just looks nice modern outside, desk staff ...</td>\n",
       "      <td>2</td>\n",
       "    </tr>\n",
       "    <tr>\n",
       "      <th>20489</th>\n",
       "      <td>hotel theft ruined vacation hotel opened sept ...</td>\n",
       "      <td>1</td>\n",
       "    </tr>\n",
       "    <tr>\n",
       "      <th>20490</th>\n",
       "      <td>people talking, ca n't believe excellent ratin...</td>\n",
       "      <td>2</td>\n",
       "    </tr>\n",
       "  </tbody>\n",
       "</table>\n",
       "<p>20491 rows × 2 columns</p>\n",
       "</div>"
      ],
      "text/plain": [
       "                                                  Review  Rating\n",
       "0      nice hotel expensive parking got good deal sta...       4\n",
       "1      ok nothing special charge diamond member hilto...       2\n",
       "2      nice rooms not 4* experience hotel monaco seat...       3\n",
       "3      unique, great stay, wonderful time hotel monac...       5\n",
       "4      great stay great stay, went seahawk game aweso...       5\n",
       "...                                                  ...     ...\n",
       "20486  best kept secret 3rd time staying charm, not 5...       5\n",
       "20487  great location price view hotel great quick pl...       4\n",
       "20488  ok just looks nice modern outside, desk staff ...       2\n",
       "20489  hotel theft ruined vacation hotel opened sept ...       1\n",
       "20490  people talking, ca n't believe excellent ratin...       2\n",
       "\n",
       "[20491 rows x 2 columns]"
      ]
     },
     "execution_count": 36,
     "metadata": {},
     "output_type": "execute_result"
    }
   ],
   "source": [
    "df = pd.read_csv('tripadvisor_hotel_reviews.csv');\n",
    "df"
   ]
  },
  {
   "cell_type": "code",
   "execution_count": 37,
   "metadata": {},
   "outputs": [
    {
     "data": {
      "text/plain": [
       "(20491, 2)"
      ]
     },
     "execution_count": 37,
     "metadata": {},
     "output_type": "execute_result"
    }
   ],
   "source": [
    "df.shape"
   ]
  },
  {
   "cell_type": "code",
   "execution_count": 38,
   "metadata": {},
   "outputs": [
    {
     "name": "stdout",
     "output_type": "stream",
     "text": [
      "<class 'pandas.core.frame.DataFrame'>\n",
      "RangeIndex: 20491 entries, 0 to 20490\n",
      "Data columns (total 2 columns):\n",
      " #   Column  Non-Null Count  Dtype \n",
      "---  ------  --------------  ----- \n",
      " 0   Review  20491 non-null  object\n",
      " 1   Rating  20491 non-null  int64 \n",
      "dtypes: int64(1), object(1)\n",
      "memory usage: 320.3+ KB\n"
     ]
    }
   ],
   "source": [
    "df.info()"
   ]
  },
  {
   "cell_type": "markdown",
   "metadata": {},
   "source": [
    "La base de datos cuenta con 2 columnas la primera de tipo object, y la segunda de tipo int ademas de contar con 20491 filas x 2 columnas ya mencionadas."
   ]
  },
  {
   "cell_type": "code",
   "execution_count": 39,
   "metadata": {},
   "outputs": [
    {
     "data": {
      "text/plain": [
       "Index(['Review', 'Rating'], dtype='object')"
      ]
     },
     "execution_count": 39,
     "metadata": {},
     "output_type": "execute_result"
    }
   ],
   "source": [
    "df.columns"
   ]
  },
  {
   "cell_type": "code",
   "execution_count": 40,
   "metadata": {},
   "outputs": [
    {
     "data": {
      "text/html": [
       "<div>\n",
       "<style scoped>\n",
       "    .dataframe tbody tr th:only-of-type {\n",
       "        vertical-align: middle;\n",
       "    }\n",
       "\n",
       "    .dataframe tbody tr th {\n",
       "        vertical-align: top;\n",
       "    }\n",
       "\n",
       "    .dataframe thead th {\n",
       "        text-align: right;\n",
       "    }\n",
       "</style>\n",
       "<table border=\"1\" class=\"dataframe\">\n",
       "  <thead>\n",
       "    <tr style=\"text-align: right;\">\n",
       "      <th></th>\n",
       "      <th>Review</th>\n",
       "      <th>Rating</th>\n",
       "    </tr>\n",
       "  </thead>\n",
       "  <tbody>\n",
       "    <tr>\n",
       "      <th>0</th>\n",
       "      <td>False</td>\n",
       "      <td>False</td>\n",
       "    </tr>\n",
       "    <tr>\n",
       "      <th>1</th>\n",
       "      <td>False</td>\n",
       "      <td>False</td>\n",
       "    </tr>\n",
       "    <tr>\n",
       "      <th>2</th>\n",
       "      <td>False</td>\n",
       "      <td>False</td>\n",
       "    </tr>\n",
       "    <tr>\n",
       "      <th>3</th>\n",
       "      <td>False</td>\n",
       "      <td>False</td>\n",
       "    </tr>\n",
       "    <tr>\n",
       "      <th>4</th>\n",
       "      <td>False</td>\n",
       "      <td>False</td>\n",
       "    </tr>\n",
       "    <tr>\n",
       "      <th>...</th>\n",
       "      <td>...</td>\n",
       "      <td>...</td>\n",
       "    </tr>\n",
       "    <tr>\n",
       "      <th>20486</th>\n",
       "      <td>False</td>\n",
       "      <td>False</td>\n",
       "    </tr>\n",
       "    <tr>\n",
       "      <th>20487</th>\n",
       "      <td>False</td>\n",
       "      <td>False</td>\n",
       "    </tr>\n",
       "    <tr>\n",
       "      <th>20488</th>\n",
       "      <td>False</td>\n",
       "      <td>False</td>\n",
       "    </tr>\n",
       "    <tr>\n",
       "      <th>20489</th>\n",
       "      <td>False</td>\n",
       "      <td>False</td>\n",
       "    </tr>\n",
       "    <tr>\n",
       "      <th>20490</th>\n",
       "      <td>False</td>\n",
       "      <td>False</td>\n",
       "    </tr>\n",
       "  </tbody>\n",
       "</table>\n",
       "<p>20491 rows × 2 columns</p>\n",
       "</div>"
      ],
      "text/plain": [
       "       Review  Rating\n",
       "0       False   False\n",
       "1       False   False\n",
       "2       False   False\n",
       "3       False   False\n",
       "4       False   False\n",
       "...       ...     ...\n",
       "20486   False   False\n",
       "20487   False   False\n",
       "20488   False   False\n",
       "20489   False   False\n",
       "20490   False   False\n",
       "\n",
       "[20491 rows x 2 columns]"
      ]
     },
     "execution_count": 40,
     "metadata": {},
     "output_type": "execute_result"
    }
   ],
   "source": [
    "df.isnull()"
   ]
  },
  {
   "cell_type": "code",
   "execution_count": 41,
   "metadata": {},
   "outputs": [
    {
     "data": {
      "text/plain": [
       "Review    0\n",
       "Rating    0\n",
       "dtype: int64"
      ]
     },
     "execution_count": 41,
     "metadata": {},
     "output_type": "execute_result"
    }
   ],
   "source": [
    "df.isnull().sum()"
   ]
  },
  {
   "cell_type": "markdown",
   "metadata": {},
   "source": [
    "#### Primera parte del PIA\n",
    "Como la base de datos solo cuenta con dos columnas, estas dos solo son necesarias, no es necesario el eliminar ni modificar las columnas ya que seran utiles para los siguientes pasos."
   ]
  },
  {
   "cell_type": "code",
   "execution_count": 42,
   "metadata": {},
   "outputs": [],
   "source": [
    "baseD = df\n",
    "baseD.to_csv('baseD_editada.csv', index=False)"
   ]
  },
  {
   "cell_type": "code",
   "execution_count": 43,
   "metadata": {},
   "outputs": [],
   "source": [
    "df=pd.read_csv('baseD_editada.csv');\n"
   ]
  },
  {
   "cell_type": "code",
   "execution_count": 44,
   "metadata": {},
   "outputs": [
    {
     "data": {
      "text/plain": [
       "4.0"
      ]
     },
     "execution_count": 44,
     "metadata": {},
     "output_type": "execute_result"
    }
   ],
   "source": [
    "df['Rating'].median() #muestra la media"
   ]
  },
  {
   "cell_type": "code",
   "execution_count": 45,
   "metadata": {},
   "outputs": [
    {
     "data": {
      "text/plain": [
       "1.5203624326830831"
      ]
     },
     "execution_count": 45,
     "metadata": {},
     "output_type": "execute_result"
    }
   ],
   "source": [
    "df['Rating'].var() #muestra la varianza"
   ]
  },
  {
   "cell_type": "code",
   "execution_count": 46,
   "metadata": {},
   "outputs": [
    {
     "data": {
      "text/plain": [
       "1.2330297776952035"
      ]
     },
     "execution_count": 46,
     "metadata": {},
     "output_type": "execute_result"
    }
   ],
   "source": [
    "df['Rating'].std() #muestra la desviacion estandar"
   ]
  },
  {
   "cell_type": "code",
   "execution_count": 47,
   "metadata": {},
   "outputs": [],
   "source": [
    "review_list=[]\n",
    "\n",
    "for review in df.Review:\n",
    "    review=re.sub(\"[^a-zA-z]\",\" \",review) \n",
    "    review=review.lower()\n",
    "    review=nltk.word_tokenize(review) \n",
    "    lemma=nlp.WordNetLemmatizer()\n",
    "    review=[lemma.lemmatize(word) for word in review] \n",
    "    review=\" \".join(review)\n",
    "    review_list.append(review)"
   ]
  },
  {
   "cell_type": "code",
   "execution_count": 48,
   "metadata": {},
   "outputs": [],
   "source": [
    "#review"
   ]
  },
  {
   "cell_type": "code",
   "execution_count": 49,
   "metadata": {},
   "outputs": [],
   "source": [
    "#print(review_list)"
   ]
  },
  {
   "cell_type": "code",
   "execution_count": 50,
   "metadata": {},
   "outputs": [],
   "source": [
    "from sklearn.feature_extraction.text import CountVectorizer\n",
    "\n",
    "max_features=500\n",
    "\n",
    "count_vectorizer=CountVectorizer(max_features=max_features,stop_words=\"english\") \n",
    "sparce_matrix=count_vectorizer.fit_transform(review_list).toarray()"
   ]
  },
  {
   "cell_type": "code",
   "execution_count": 51,
   "metadata": {},
   "outputs": [
    {
     "data": {
      "text/plain": [
       "CountVectorizer(max_features=500, stop_words='english')"
      ]
     },
     "execution_count": 51,
     "metadata": {},
     "output_type": "execute_result"
    }
   ],
   "source": [
    "sparce_matrix\n",
    "count_vectorizer"
   ]
  },
  {
   "cell_type": "code",
   "execution_count": 52,
   "metadata": {
    "scrolled": true
   },
   "outputs": [
    {
     "name": "stdout",
     "output_type": "stream",
     "text": [
      "Top 500 Palabras mas usadas: ['able', 'absolutely', 'access', 'activity', 'actually', 'afternoon', 'air', 'airport', 'amazing', 'amenity', 'american', 'amsterdam', 'area', 'arrival', 'arrived', 'ask', 'asked', 'ate', 'attraction', 'available', 'average', 'away', 'awesome', 'bad', 'bag', 'balcony', 'bar', 'barcelona', 'basic', 'bath', 'bathroom', 'beach', 'beautiful', 'bed', 'bedroom', 'beer', 'believe', 'best', 'better', 'big', 'bit', 'block', 'book', 'booked', 'booking', 'bottle', 'breakfast', 'bring', 'brought', 'buffet', 'building', 'bus', 'business', 'busy', 'buy', 'ca', 'cab', 'cafe', 'called', 'came', 'cana', 'car', 'card', 'care', 'casino', 'center', 'central', 'centre', 'certainly', 'chair', 'change', 'charge', 'cheap', 'check', 'checked', 'cheese', 'child', 'choice', 'choose', 'chose', 'city', 'clean', 'cleaned', 'close', 'club', 'coffee', 'cold', 'come', 'comfortable', 'coming', 'comment', 'complaint', 'complimentary', 'concierge', 'conditioning', 'convenient', 'cool', 'corner', 'cost', 'country', 'couple', 'course', 'customer', 'daily', 'daughter', 'day', 'deal', 'decent', 'decided', 'decor', 'decorated', 'definitely', 'desk', 'did', 'different', 'dining', 'dinner', 'dirty', 'disappointed', 'distance', 'doe', 'dollar', 'dominican', 'dont', 'door', 'double', 'downtown', 'drink', 'early', 'easy', 'eat', 'elevator', 'end', 'english', 'enjoy', 'enjoyed', 'entertainment', 'entire', 'especially', 'euro', 'european', 'evening', 'excellent', 'expect', 'expected', 'expensive', 'experience', 'extra', 'extremely', 'fabulous', 'facility', 'fact', 'family', 'fantastic', 'far', 'feel', 'felt', 'finally', 'fine', 'flight', 'floor', 'florence', 'food', 'free', 'french', 'fresh', 'fridge', 'friend', 'friendly', 'fruit', 'fun', 'garden', 'gave', 'getting', 'given', 'glass', 'going', 'good', 'gorgeous', 'got', 'grand', 'great', 'ground', 'group', 'guest', 'guy', 'half', 'hand', 'happy', 'hard', 'having', 'head', 'hear', 'heard', 'help', 'helpful', 'high', 'highly', 'hilton', 'holiday', 'home', 'honeymoon', 'hot', 'hotel', 'hour', 'house', 'housekeeping', 'huge', 'husband', 'impressed', 'included', 'including', 'inclusive', 'inn', 'instead', 'internet', 'island', 'issue', 'italian', 'juan', 'juice', 'just', 'kept', 'key', 'kid', 'kind', 'king', 'know', 'la', 'large', 'late', 'later', 'leave', 'left', 'let', 'level', 'life', 'light', 'like', 'liked', 'line', 'little', 'lobby', 'local', 'located', 'location', 'london', 'long', 'look', 'looked', 'looking', 'lot', 'lounge', 'love', 'loved', 'lovely', 'luggage', 'lunch', 'maid', 'main', 'major', 'make', 'making', 'manager', 'market', 'maybe', 'meal', 'mean', 'member', 'menu', 'met', 'metro', 'middle', 'min', 'mind', 'mini', 'minute', 'modern', 'money', 'month', 'morning', 'music', 'near', 'nearby', 'need', 'needed', 'negative', 'new', 'nice', 'night', 'noise', 'noisy', 'non', 'note', 'number', 'ocean', 'offer', 'offered', 'ok', 'old', 'open', 'option', 'order', 'outside', 'overall', 'paid', 'palace', 'paris', 'park', 'parking', 'party', 'pay', 'people', 'perfect', 'person', 'phone', 'pillow', 'place', 'plaza', 'pleasant', 'plenty', 'plus', 'pm', 'point', 'pool', 'poor', 'pretty', 'previous', 'price', 'priced', 'probably', 'problem', 'property', 'provided', 'punta', 'quality', 'quick', 'quiet', 'quite', 'rate', 'read', 'reading', 'ready', 'real', 'really', 'reason', 'reasonable', 'reception', 'recommend', 'recommended', 'relax', 'relaxing', 'remember', 'request', 'requested', 'reservation', 'resort', 'rest', 'restaurant', 'return', 'returned', 'review', 'ride', 'right', 'road', 'room', 'rude', 'run', 'safe', 'said', 'san', 'sand', 'saw', 'say', 'second', 'seen', 'selection', 'served', 'service', 'set', 'shop', 'shopping', 'short', 'shower', 'shuttle', 'sick', 'sight', 'single', 'sit', 'site', 'size', 'sleep', 'small', 'smell', 'snack', 'spa', 'space', 'spacious', 'spanish', 'speak', 'special', 'spend', 'spent', 'spoke', 'spot', 'square', 'st', 'staff', 'standard', 'star', 'start', 'station', 'stay', 'stayed', 'staying', 'stop', 'store', 'street', 'style', 'suite', 'sun', 'superb', 'sure', 'swim', 'table', 'taken', 'taking', 'taxi', 'tea', 'tell', 'th', 'thing', 'think', 'thought', 'time', 'tiny', 'tip', 'toilet', 'told', 'took', 'touch', 'tour', 'tourist', 'towel', 'tower', 'town', 'train', 'travel', 'tried', 'trip', 'try', 'trying', 'tub', 'turn', 'tv', 'twice', 'type', 'upgrade', 'upgraded', 'use', 'used', 'usually', 'vacation', 'value', 'variety', 'view', 'visit', 'wait', 'waiting', 'walk', 'walked', 'walking', 'wall', 'want', 'wanted', 'warm', 'water', 'way', 'weather', 'website', 'wedding', 'week', 'weekend', 'welcome', 'went', 'white', 'wife', 'window', 'wine', 'wonderful', 'work', 'worked', 'working', 'world', 'worst', 'worth', 'wrong', 'year', 'yes', 'york']\n"
     ]
    }
   ],
   "source": [
    "palabras=print(\"Top {} Palabras mas usadas: {}\".format(max_features,count_vectorizer.get_feature_names()))"
   ]
  },
  {
   "cell_type": "code",
   "execution_count": 54,
   "metadata": {},
   "outputs": [
    {
     "data": {
      "text/plain": [
       "<matplotlib.axes._subplots.AxesSubplot at 0x23836a710a0>"
      ]
     },
     "execution_count": 54,
     "metadata": {},
     "output_type": "execute_result"
    },
    {
     "data": {
      "image/png": "[encoded data removed]",
      "text/plain": [
       "<Figure size 432x288 with 1 Axes>"
      ]
     },
     "metadata": {
      "needs_background": "light"
     },
     "output_type": "display_data"
    }
   ],
   "source": [
    "df['Review'].value_counts().sort_index().plot.area()"
   ]
  },
  {
   "cell_type": "markdown",
   "metadata": {},
   "source": [
    "Aqui se puede observar por la cantidad de palabras usadas haciendo un conteo de las mismas para su graficacion."
   ]
  },
  {
   "cell_type": "code",
   "execution_count": 55,
   "metadata": {},
   "outputs": [],
   "source": [
    "X = df['Review'].copy()\n",
    "y = df['Rating'].copy()"
   ]
  },
  {
   "cell_type": "code",
   "execution_count": 56,
   "metadata": {},
   "outputs": [
    {
     "data": {
      "text/plain": [
       "0    nice hotel expensive parking got good deal sta...\n",
       "1    ok nothing special charge diamond member hilto...\n",
       "2    nice rooms * experience hotel monaco seattle g...\n",
       "3    unique, great stay, wonderful time hotel monac...\n",
       "4    great stay great stay, went seahawk game aweso...\n",
       "Name: Review, dtype: object"
      ]
     },
     "execution_count": 56,
     "metadata": {},
     "output_type": "execute_result"
    }
   ],
   "source": [
    "def data_cleaner(review):\n",
    "    \n",
    "    # remove digits\n",
    "    review = re.sub(r'\\d+',' ', review)\n",
    "    \n",
    "    #removing stop words\n",
    "    review = review.split()\n",
    "    review = \" \".join([word for word in review if not word in stop_words])\n",
    "    \n",
    "    #Stemming\n",
    "    #review = \" \".join([ps.stem(w) for w in review])\n",
    "    \n",
    "    return review\n",
    "\n",
    "ps = PorterStemmer() \n",
    "stop_words = stopwords.words('english')\n",
    "\n",
    "X_cleaned = X.apply(data_cleaner)\n",
    "X_cleaned.head()"
   ]
  },
  {
   "cell_type": "code",
   "execution_count": 57,
   "metadata": {},
   "outputs": [],
   "source": [
    "pos = [4, 5]\n",
    "neg = [1, 2]\n",
    "neu = [3]\n",
    "\n",
    "def sentiment(rating):\n",
    "  if rating in pos:\n",
    "    return 2\n",
    "  elif rating in neg:\n",
    "    return 0\n",
    "  else:\n",
    "    return 1  "
   ]
  },
  {
   "cell_type": "code",
   "execution_count": 58,
   "metadata": {},
   "outputs": [
    {
     "data": {
      "text/html": [
       "<div>\n",
       "<style scoped>\n",
       "    .dataframe tbody tr th:only-of-type {\n",
       "        vertical-align: middle;\n",
       "    }\n",
       "\n",
       "    .dataframe tbody tr th {\n",
       "        vertical-align: top;\n",
       "    }\n",
       "\n",
       "    .dataframe thead th {\n",
       "        text-align: right;\n",
       "    }\n",
       "</style>\n",
       "<table border=\"1\" class=\"dataframe\">\n",
       "  <thead>\n",
       "    <tr style=\"text-align: right;\">\n",
       "      <th></th>\n",
       "      <th>Review</th>\n",
       "      <th>Rating</th>\n",
       "      <th>Sentiment</th>\n",
       "    </tr>\n",
       "  </thead>\n",
       "  <tbody>\n",
       "    <tr>\n",
       "      <th>0</th>\n",
       "      <td>nice hotel expensive parking got good deal sta...</td>\n",
       "      <td>4</td>\n",
       "      <td>2</td>\n",
       "    </tr>\n",
       "    <tr>\n",
       "      <th>1</th>\n",
       "      <td>ok nothing special charge diamond member hilto...</td>\n",
       "      <td>2</td>\n",
       "      <td>0</td>\n",
       "    </tr>\n",
       "    <tr>\n",
       "      <th>2</th>\n",
       "      <td>nice rooms not 4* experience hotel monaco seat...</td>\n",
       "      <td>3</td>\n",
       "      <td>1</td>\n",
       "    </tr>\n",
       "    <tr>\n",
       "      <th>3</th>\n",
       "      <td>unique, great stay, wonderful time hotel monac...</td>\n",
       "      <td>5</td>\n",
       "      <td>2</td>\n",
       "    </tr>\n",
       "    <tr>\n",
       "      <th>4</th>\n",
       "      <td>great stay great stay, went seahawk game aweso...</td>\n",
       "      <td>5</td>\n",
       "      <td>2</td>\n",
       "    </tr>\n",
       "  </tbody>\n",
       "</table>\n",
       "</div>"
      ],
      "text/plain": [
       "                                              Review  Rating  Sentiment\n",
       "0  nice hotel expensive parking got good deal sta...       4          2\n",
       "1  ok nothing special charge diamond member hilto...       2          0\n",
       "2  nice rooms not 4* experience hotel monaco seat...       3          1\n",
       "3  unique, great stay, wonderful time hotel monac...       5          2\n",
       "4  great stay great stay, went seahawk game aweso...       5          2"
      ]
     },
     "execution_count": 58,
     "metadata": {},
     "output_type": "execute_result"
    }
   ],
   "source": [
    "df['Sentiment'] = df['Rating'].apply(sentiment)\n",
    "df.head()"
   ]
  },
  {
   "cell_type": "markdown",
   "metadata": {},
   "source": [
    "2 - positivo (4, 5)\n",
    "1 - neutral (3)\n",
    "0 - Negativo (1, 2)"
   ]
  },
  {
   "cell_type": "code",
   "execution_count": null,
   "metadata": {},
   "outputs": [],
   "source": [
    "nlp = spacy.load('en_core_web_sm')\n",
    "\n",
    "def normalize(msg):\n",
    "    \n",
    "    doc = nlp(msg)\n",
    "    res = []\n",
    "    \n",
    "    for token in doc:\n",
    "        if(token.is_stop or token.is_punct or token.is_space):\n",
    "            pass\n",
    "        else:\n",
    "            res.append(token.lemma_.lower())\n",
    "            \n",
    "    return res"
   ]
  },
  {
   "cell_type": "markdown",
   "metadata": {},
   "source": [
    "se exploran las palabras para poder llegar a conclusiones en base a su escritura."
   ]
  },
  {
   "cell_type": "code",
   "execution_count": 61,
   "metadata": {},
   "outputs": [
    {
     "data": {
      "text/html": [
       "<div>\n",
       "<style scoped>\n",
       "    .dataframe tbody tr th:only-of-type {\n",
       "        vertical-align: middle;\n",
       "    }\n",
       "\n",
       "    .dataframe tbody tr th {\n",
       "        vertical-align: top;\n",
       "    }\n",
       "\n",
       "    .dataframe thead th {\n",
       "        text-align: right;\n",
       "    }\n",
       "</style>\n",
       "<table border=\"1\" class=\"dataframe\">\n",
       "  <thead>\n",
       "    <tr style=\"text-align: right;\">\n",
       "      <th></th>\n",
       "      <th>Review</th>\n",
       "      <th>Rating</th>\n",
       "      <th>Sentiment</th>\n",
       "    </tr>\n",
       "  </thead>\n",
       "  <tbody>\n",
       "    <tr>\n",
       "      <th>0</th>\n",
       "      <td>[nice, hotel, expensive, parking, get, good, d...</td>\n",
       "      <td>4</td>\n",
       "      <td>2</td>\n",
       "    </tr>\n",
       "    <tr>\n",
       "      <th>1</th>\n",
       "      <td>[ok, special, charge, diamond, member, hilton,...</td>\n",
       "      <td>2</td>\n",
       "      <td>0</td>\n",
       "    </tr>\n",
       "    <tr>\n",
       "      <th>2</th>\n",
       "      <td>[nice, room, 4, experience, hotel, monaco, sea...</td>\n",
       "      <td>3</td>\n",
       "      <td>1</td>\n",
       "    </tr>\n",
       "    <tr>\n",
       "      <th>3</th>\n",
       "      <td>[unique, great, stay, wonderful, time, hotel, ...</td>\n",
       "      <td>5</td>\n",
       "      <td>2</td>\n",
       "    </tr>\n",
       "    <tr>\n",
       "      <th>4</th>\n",
       "      <td>[great, stay, great, stay, go, seahawk, game, ...</td>\n",
       "      <td>5</td>\n",
       "      <td>2</td>\n",
       "    </tr>\n",
       "  </tbody>\n",
       "</table>\n",
       "</div>"
      ],
      "text/plain": [
       "                                              Review  Rating  Sentiment\n",
       "0  [nice, hotel, expensive, parking, get, good, d...       4          2\n",
       "1  [ok, special, charge, diamond, member, hilton,...       2          0\n",
       "2  [nice, room, 4, experience, hotel, monaco, sea...       3          1\n",
       "3  [unique, great, stay, wonderful, time, hotel, ...       5          2\n",
       "4  [great, stay, great, stay, go, seahawk, game, ...       5          2"
      ]
     },
     "execution_count": 61,
     "metadata": {},
     "output_type": "execute_result"
    }
   ],
   "source": [
    "df['Review'] = df['Review'].apply(normalize)\n",
    "df.head()"
   ]
  },
  {
   "cell_type": "code",
   "execution_count": 53,
   "metadata": {
    "scrolled": true
   },
   "outputs": [
    {
     "data": {
      "text/plain": [
       "<matplotlib.axes._subplots.AxesSubplot at 0x23832808e80>"
      ]
     },
     "execution_count": 53,
     "metadata": {},
     "output_type": "execute_result"
    },
    {
     "data": {
      "image/png": "[encoded data removed]",
      "text/plain": [
       "<Figure size 432x288 with 1 Axes>"
      ]
     },
     "metadata": {
      "needs_background": "light"
     },
     "output_type": "display_data"
    }
   ],
   "source": [
    "sns.countplot(df['Rating'])"
   ]
  },
  {
   "cell_type": "code",
   "execution_count": null,
   "metadata": {},
   "outputs": [],
   "source": [
    "fig = go.Figure([go.Bar(x=df.Sentiment.value_counts().index, y=df.Sentiment.value_counts().tolist())])\n",
    "fig.update_layout(\n",
    "    title=\"valores de sentimiento\",\n",
    "    xaxis_title=\"Sentiment\",\n",
    "    yaxis_title=\"Values\")\n",
    "fig.show()"
   ]
  },
  {
   "cell_type": "markdown",
   "metadata": {},
   "source": [
    "## Conclusiones Globales\n",
    "\n",
    "Apesar de manejar las secciones de la manera mas eficiente posible, aun nos queda un tramo por recorrer, faltan modismos, percepciones y mas, pero por el momento ya podemos desmembrar las reseñas y poder concluir cuales son las que mas nos dan resultados a nuestras necesidades.\n",
    "Muchos de los resultados aventados por el programa fue satisfaccion mas que alguna situacion negativa."
   ]
  },
  {
   "cell_type": "code",
   "execution_count": null,
   "metadata": {},
   "outputs": [],
   "source": []
  }
 ],
 "metadata": {
  "kernelspec": {
   "display_name": "Python 3",
   "language": "python",
   "name": "python3"
  },
  "language_info": {
   "codemirror_mode": {
    "name": "ipython",
    "version": 3
   },
   "file_extension": ".py",
   "mimetype": "text/x-python",
   "name": "python",
   "nbconvert_exporter": "python",
   "pygments_lexer": "ipython3",
   "version": "3.8.3"
  }
 },
 "nbformat": 4,
 "nbformat_minor": 4
}
