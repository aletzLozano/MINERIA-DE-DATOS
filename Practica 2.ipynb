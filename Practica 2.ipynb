{
 "cells": [
  {
   "cell_type": "code",
   "execution_count": 40,
   "metadata": {},
   "outputs": [],
   "source": [
    "import pandas as pd #media,varianza y dev estandar\n",
    "import matplotlib as plt\n",
    "import seaborn as sns\n",
    "import numpy as np # linear algebra\n",
    "import re # regular expression libary.\n",
    "import nltk # Natural Language toolkit\n",
    "from nltk import word_tokenize,sent_tokenize\n",
    "import nltk as nlp"
   ]
  },
  {
   "cell_type": "code",
   "execution_count": 10,
   "metadata": {},
   "outputs": [
    {
     "data": {
      "text/html": [
       "<div>\n",
       "<style scoped>\n",
       "    .dataframe tbody tr th:only-of-type {\n",
       "        vertical-align: middle;\n",
       "    }\n",
       "\n",
       "    .dataframe tbody tr th {\n",
       "        vertical-align: top;\n",
       "    }\n",
       "\n",
       "    .dataframe thead th {\n",
       "        text-align: right;\n",
       "    }\n",
       "</style>\n",
       "<table border=\"1\" class=\"dataframe\">\n",
       "  <thead>\n",
       "    <tr style=\"text-align: right;\">\n",
       "      <th></th>\n",
       "      <th>Review</th>\n",
       "      <th>Rating</th>\n",
       "    </tr>\n",
       "  </thead>\n",
       "  <tbody>\n",
       "    <tr>\n",
       "      <th>0</th>\n",
       "      <td>nice hotel expensive parking got good deal sta...</td>\n",
       "      <td>4</td>\n",
       "    </tr>\n",
       "    <tr>\n",
       "      <th>1</th>\n",
       "      <td>ok nothing special charge diamond member hilto...</td>\n",
       "      <td>2</td>\n",
       "    </tr>\n",
       "    <tr>\n",
       "      <th>2</th>\n",
       "      <td>nice rooms not 4* experience hotel monaco seat...</td>\n",
       "      <td>3</td>\n",
       "    </tr>\n",
       "    <tr>\n",
       "      <th>3</th>\n",
       "      <td>unique, great stay, wonderful time hotel monac...</td>\n",
       "      <td>5</td>\n",
       "    </tr>\n",
       "    <tr>\n",
       "      <th>4</th>\n",
       "      <td>great stay great stay, went seahawk game aweso...</td>\n",
       "      <td>5</td>\n",
       "    </tr>\n",
       "    <tr>\n",
       "      <th>...</th>\n",
       "      <td>...</td>\n",
       "      <td>...</td>\n",
       "    </tr>\n",
       "    <tr>\n",
       "      <th>20486</th>\n",
       "      <td>best kept secret 3rd time staying charm, not 5...</td>\n",
       "      <td>5</td>\n",
       "    </tr>\n",
       "    <tr>\n",
       "      <th>20487</th>\n",
       "      <td>great location price view hotel great quick pl...</td>\n",
       "      <td>4</td>\n",
       "    </tr>\n",
       "    <tr>\n",
       "      <th>20488</th>\n",
       "      <td>ok just looks nice modern outside, desk staff ...</td>\n",
       "      <td>2</td>\n",
       "    </tr>\n",
       "    <tr>\n",
       "      <th>20489</th>\n",
       "      <td>hotel theft ruined vacation hotel opened sept ...</td>\n",
       "      <td>1</td>\n",
       "    </tr>\n",
       "    <tr>\n",
       "      <th>20490</th>\n",
       "      <td>people talking, ca n't believe excellent ratin...</td>\n",
       "      <td>2</td>\n",
       "    </tr>\n",
       "  </tbody>\n",
       "</table>\n",
       "<p>20491 rows × 2 columns</p>\n",
       "</div>"
      ],
      "text/plain": [
       "                                                  Review  Rating\n",
       "0      nice hotel expensive parking got good deal sta...       4\n",
       "1      ok nothing special charge diamond member hilto...       2\n",
       "2      nice rooms not 4* experience hotel monaco seat...       3\n",
       "3      unique, great stay, wonderful time hotel monac...       5\n",
       "4      great stay great stay, went seahawk game aweso...       5\n",
       "...                                                  ...     ...\n",
       "20486  best kept secret 3rd time staying charm, not 5...       5\n",
       "20487  great location price view hotel great quick pl...       4\n",
       "20488  ok just looks nice modern outside, desk staff ...       2\n",
       "20489  hotel theft ruined vacation hotel opened sept ...       1\n",
       "20490  people talking, ca n't believe excellent ratin...       2\n",
       "\n",
       "[20491 rows x 2 columns]"
      ]
     },
     "execution_count": 10,
     "metadata": {},
     "output_type": "execute_result"
    }
   ],
   "source": [
    "df = pd.read_csv('tripadvisor_hotel_reviews.csv');\n",
    "df"
   ]
  },
  {
   "cell_type": "code",
   "execution_count": 11,
   "metadata": {},
   "outputs": [
    {
     "data": {
      "text/plain": [
       "4.0"
      ]
     },
     "execution_count": 11,
     "metadata": {},
     "output_type": "execute_result"
    }
   ],
   "source": [
    "df['Rating'].median() #muestra la media"
   ]
  },
  {
   "cell_type": "code",
   "execution_count": 12,
   "metadata": {},
   "outputs": [
    {
     "data": {
      "text/plain": [
       "1.5203624326830831"
      ]
     },
     "execution_count": 12,
     "metadata": {},
     "output_type": "execute_result"
    }
   ],
   "source": [
    "df['Rating'].var() #muestra la varianza"
   ]
  },
  {
   "cell_type": "code",
   "execution_count": 13,
   "metadata": {},
   "outputs": [
    {
     "data": {
      "text/plain": [
       "1.2330297776952035"
      ]
     },
     "execution_count": 13,
     "metadata": {},
     "output_type": "execute_result"
    }
   ],
   "source": [
    "df['Rating'].std() #muestra la desviacion estandar"
   ]
  },
  {
   "cell_type": "code",
   "execution_count": 14,
   "metadata": {},
   "outputs": [
    {
     "data": {
      "text/plain": [
       "count    20491.000000\n",
       "mean         3.952223\n",
       "std          1.233030\n",
       "min          1.000000\n",
       "25%          3.000000\n",
       "50%          4.000000\n",
       "75%          5.000000\n",
       "max          5.000000\n",
       "Name: Rating, dtype: float64"
      ]
     },
     "execution_count": 14,
     "metadata": {},
     "output_type": "execute_result"
    }
   ],
   "source": [
    "df['Rating'].describe()"
   ]
  },
  {
   "cell_type": "code",
   "execution_count": 15,
   "metadata": {},
   "outputs": [
    {
     "name": "stdout",
     "output_type": "stream",
     "text": [
      "<class 'pandas.core.frame.DataFrame'>\n",
      "RangeIndex: 20491 entries, 0 to 20490\n",
      "Data columns (total 2 columns):\n",
      " #   Column  Non-Null Count  Dtype \n",
      "---  ------  --------------  ----- \n",
      " 0   Review  20491 non-null  object\n",
      " 1   Rating  20491 non-null  int64 \n",
      "dtypes: int64(1), object(1)\n",
      "memory usage: 320.3+ KB\n"
     ]
    }
   ],
   "source": [
    "df.info()"
   ]
  },
  {
   "cell_type": "code",
   "execution_count": 18,
   "metadata": {},
   "outputs": [
    {
     "data": {
      "text/plain": [
       "Review    0\n",
       "Rating    0\n",
       "dtype: int64"
      ]
     },
     "execution_count": 18,
     "metadata": {},
     "output_type": "execute_result"
    }
   ],
   "source": [
    "df.isnull().sum()"
   ]
  },
  {
   "cell_type": "code",
   "execution_count": 68,
   "metadata": {},
   "outputs": [],
   "source": [
    "review_list=[]\n",
    "\n",
    "for review in df.Review:\n",
    "    review=re.sub(\"[^a-zA-z]\",\" \",review) # if expression in the sentence is not a word then this code change them to space\n",
    "    review=review.lower() # turns all word in the sentence into lowercase.\n",
    "    review=nltk.word_tokenize(review) # splits the words that are in the sentence from each other.\n",
    "    lemma=nlp.WordNetLemmatizer()\n",
    "    review=[lemma.lemmatize(word) for word in review] # this code finds the root of the word for a word in the sentence and change them to their root form.\n",
    "    review=\" \".join(review)\n",
    "    review_list.append(review) # store sentences in list\n",
    "    "
   ]
  },
  {
   "cell_type": "code",
   "execution_count": null,
   "metadata": {},
   "outputs": [],
   "source": []
  },
  {
   "cell_type": "code",
   "execution_count": 20,
   "metadata": {},
   "outputs": [],
   "source": [
    "from sklearn.feature_extraction.text import CountVectorizer\n",
    "\n",
    "max_features=500\n",
    "\n",
    "count_vectorizer=CountVectorizer(max_features=max_features,stop_words=\"english\") \n",
    "sparce_matrix=count_vectorizer.fit_transform(review_list).toarray()"
   ]
  },
  {
   "cell_type": "code",
   "execution_count": 80,
   "metadata": {},
   "outputs": [
    {
     "data": {
      "text/plain": [
       "CountVectorizer(max_features=500, stop_words='english')"
      ]
     },
     "execution_count": 80,
     "metadata": {},
     "output_type": "execute_result"
    }
   ],
   "source": [
    "sparce_matrix\n",
    "count_vectorizer"
   ]
  },
  {
   "cell_type": "code",
   "execution_count": 26,
   "metadata": {},
   "outputs": [
    {
     "name": "stdout",
     "output_type": "stream",
     "text": [
      "Top 500 Palabras mas usadas: ['able', 'absolutely', 'access', 'activity', 'actually', 'afternoon', 'air', 'airport', 'amazing', 'amenity', 'american', 'amsterdam', 'area', 'arrival', 'arrived', 'ask', 'asked', 'ate', 'attraction', 'available', 'average', 'away', 'awesome', 'bad', 'bag', 'balcony', 'bar', 'barcelona', 'basic', 'bath', 'bathroom', 'beach', 'beautiful', 'bed', 'bedroom', 'beer', 'believe', 'best', 'better', 'big', 'bit', 'block', 'book', 'booked', 'booking', 'bottle', 'breakfast', 'bring', 'brought', 'buffet', 'building', 'bus', 'business', 'busy', 'buy', 'ca', 'cab', 'cafe', 'called', 'came', 'cana', 'car', 'card', 'care', 'casino', 'center', 'central', 'centre', 'certainly', 'chair', 'change', 'charge', 'cheap', 'check', 'checked', 'cheese', 'child', 'choice', 'choose', 'chose', 'city', 'clean', 'cleaned', 'close', 'club', 'coffee', 'cold', 'come', 'comfortable', 'coming', 'comment', 'complaint', 'complimentary', 'concierge', 'conditioning', 'convenient', 'cool', 'corner', 'cost', 'country', 'couple', 'course', 'customer', 'daily', 'daughter', 'day', 'deal', 'decent', 'decided', 'decor', 'decorated', 'definitely', 'desk', 'did', 'different', 'dining', 'dinner', 'dirty', 'disappointed', 'distance', 'doe', 'dollar', 'dominican', 'dont', 'door', 'double', 'downtown', 'drink', 'early', 'easy', 'eat', 'elevator', 'end', 'english', 'enjoy', 'enjoyed', 'entertainment', 'entire', 'especially', 'euro', 'european', 'evening', 'excellent', 'expect', 'expected', 'expensive', 'experience', 'extra', 'extremely', 'fabulous', 'facility', 'fact', 'family', 'fantastic', 'far', 'feel', 'felt', 'finally', 'fine', 'flight', 'floor', 'florence', 'food', 'free', 'french', 'fresh', 'fridge', 'friend', 'friendly', 'fruit', 'fun', 'garden', 'gave', 'getting', 'given', 'glass', 'going', 'good', 'gorgeous', 'got', 'grand', 'great', 'ground', 'group', 'guest', 'guy', 'half', 'hand', 'happy', 'hard', 'having', 'head', 'hear', 'heard', 'help', 'helpful', 'high', 'highly', 'hilton', 'holiday', 'home', 'honeymoon', 'hot', 'hotel', 'hour', 'house', 'housekeeping', 'huge', 'husband', 'impressed', 'included', 'including', 'inclusive', 'inn', 'instead', 'internet', 'island', 'issue', 'italian', 'juan', 'juice', 'just', 'kept', 'key', 'kid', 'kind', 'king', 'know', 'la', 'large', 'late', 'later', 'leave', 'left', 'let', 'level', 'life', 'light', 'like', 'liked', 'line', 'little', 'lobby', 'local', 'located', 'location', 'london', 'long', 'look', 'looked', 'looking', 'lot', 'lounge', 'love', 'loved', 'lovely', 'luggage', 'lunch', 'maid', 'main', 'major', 'make', 'making', 'manager', 'market', 'maybe', 'meal', 'mean', 'member', 'menu', 'met', 'metro', 'middle', 'min', 'mind', 'mini', 'minute', 'modern', 'money', 'month', 'morning', 'music', 'near', 'nearby', 'need', 'needed', 'negative', 'new', 'nice', 'night', 'noise', 'noisy', 'non', 'note', 'number', 'ocean', 'offer', 'offered', 'ok', 'old', 'open', 'option', 'order', 'outside', 'overall', 'paid', 'palace', 'paris', 'park', 'parking', 'party', 'pay', 'people', 'perfect', 'person', 'phone', 'pillow', 'place', 'plaza', 'pleasant', 'plenty', 'plus', 'pm', 'point', 'pool', 'poor', 'pretty', 'previous', 'price', 'priced', 'probably', 'problem', 'property', 'provided', 'punta', 'quality', 'quick', 'quiet', 'quite', 'rate', 'read', 'reading', 'ready', 'real', 'really', 'reason', 'reasonable', 'reception', 'recommend', 'recommended', 'relax', 'relaxing', 'remember', 'request', 'requested', 'reservation', 'resort', 'rest', 'restaurant', 'return', 'returned', 'review', 'ride', 'right', 'road', 'room', 'rude', 'run', 'safe', 'said', 'san', 'sand', 'saw', 'say', 'second', 'seen', 'selection', 'served', 'service', 'set', 'shop', 'shopping', 'short', 'shower', 'shuttle', 'sick', 'sight', 'single', 'sit', 'site', 'size', 'sleep', 'small', 'smell', 'snack', 'spa', 'space', 'spacious', 'spanish', 'speak', 'special', 'spend', 'spent', 'spoke', 'spot', 'square', 'st', 'staff', 'standard', 'star', 'start', 'station', 'stay', 'stayed', 'staying', 'stop', 'store', 'street', 'style', 'suite', 'sun', 'superb', 'sure', 'swim', 'table', 'taken', 'taking', 'taxi', 'tea', 'tell', 'th', 'thing', 'think', 'thought', 'time', 'tiny', 'tip', 'toilet', 'told', 'took', 'touch', 'tour', 'tourist', 'towel', 'tower', 'town', 'train', 'travel', 'tried', 'trip', 'try', 'trying', 'tub', 'turn', 'tv', 'twice', 'type', 'upgrade', 'upgraded', 'use', 'used', 'usually', 'vacation', 'value', 'variety', 'view', 'visit', 'wait', 'waiting', 'walk', 'walked', 'walking', 'wall', 'want', 'wanted', 'warm', 'water', 'way', 'weather', 'website', 'wedding', 'week', 'weekend', 'welcome', 'went', 'white', 'wife', 'window', 'wine', 'wonderful', 'work', 'worked', 'working', 'world', 'worst', 'worth', 'wrong', 'year', 'yes', 'york']\n"
     ]
    }
   ],
   "source": [
    "grafica=print(\"Top {} Palabras mas usadas: {}\".format(max_features,count_vectorizer.get_feature_names()))"
   ]
  },
  {
   "cell_type": "code",
   "execution_count": 43,
   "metadata": {},
   "outputs": [],
   "source": [
    "data=pd.DataFrame(count_vectorizer.get_feature_names(),columns=[\"Words\"])"
   ]
  },
  {
   "cell_type": "code",
   "execution_count": 44,
   "metadata": {},
   "outputs": [
    {
     "data": {
      "text/html": [
       "<div>\n",
       "<style scoped>\n",
       "    .dataframe tbody tr th:only-of-type {\n",
       "        vertical-align: middle;\n",
       "    }\n",
       "\n",
       "    .dataframe tbody tr th {\n",
       "        vertical-align: top;\n",
       "    }\n",
       "\n",
       "    .dataframe thead th {\n",
       "        text-align: right;\n",
       "    }\n",
       "</style>\n",
       "<table border=\"1\" class=\"dataframe\">\n",
       "  <thead>\n",
       "    <tr style=\"text-align: right;\">\n",
       "      <th></th>\n",
       "      <th>Words</th>\n",
       "    </tr>\n",
       "  </thead>\n",
       "  <tbody>\n",
       "    <tr>\n",
       "      <th>0</th>\n",
       "      <td>able</td>\n",
       "    </tr>\n",
       "    <tr>\n",
       "      <th>1</th>\n",
       "      <td>absolutely</td>\n",
       "    </tr>\n",
       "    <tr>\n",
       "      <th>2</th>\n",
       "      <td>access</td>\n",
       "    </tr>\n",
       "    <tr>\n",
       "      <th>3</th>\n",
       "      <td>activity</td>\n",
       "    </tr>\n",
       "    <tr>\n",
       "      <th>4</th>\n",
       "      <td>actually</td>\n",
       "    </tr>\n",
       "  </tbody>\n",
       "</table>\n",
       "</div>"
      ],
      "text/plain": [
       "        Words\n",
       "0        able\n",
       "1  absolutely\n",
       "2      access\n",
       "3    activity\n",
       "4    actually"
      ]
     },
     "execution_count": 44,
     "metadata": {},
     "output_type": "execute_result"
    }
   ],
   "source": [
    "data.head()"
   ]
  },
  {
   "cell_type": "code",
   "execution_count": 46,
   "metadata": {},
   "outputs": [
    {
     "data": {
      "text/plain": [
       "5    9054\n",
       "4    6039\n",
       "3    2184\n",
       "2    1793\n",
       "1    1421\n",
       "Name: Rating, dtype: int64"
      ]
     },
     "execution_count": 46,
     "metadata": {},
     "output_type": "execute_result"
    }
   ],
   "source": [
    "df.Rating.value_counts()"
   ]
  },
  {
   "cell_type": "code",
   "execution_count": 42,
   "metadata": {},
   "outputs": [
    {
     "data": {
      "text/plain": [
       "<matplotlib.axes._subplots.AxesSubplot at 0x21d1fbce5b0>"
      ]
     },
     "execution_count": 42,
     "metadata": {},
     "output_type": "execute_result"
    },
    {
     "data": {
      "image/png": "[encoded data removed]",
      "text/plain": [
       "<Figure size 432x288 with 1 Axes>"
      ]
     },
     "metadata": {
      "needs_background": "light"
     },
     "output_type": "display_data"
    }
   ],
   "source": [
    "#Utilizar al menos dos formas de graficar con matplotlib\n",
    "df['Rating'].value_counts().sort_index().plot.area()"
   ]
  },
  {
   "cell_type": "code",
   "execution_count": 34,
   "metadata": {},
   "outputs": [
    {
     "data": {
      "text/plain": [
       "<matplotlib.axes._subplots.AxesSubplot at 0x14d423f2e20>"
      ]
     },
     "execution_count": 34,
     "metadata": {},
     "output_type": "execute_result"
    },
    {
     "data": {
      "image/png": "[encoded data removed]",
      "text/plain": [
       "<Figure size 432x288 with 1 Axes>"
      ]
     },
     "metadata": {
      "needs_background": "light"
     },
     "output_type": "display_data"
    }
   ],
   "source": [
    "df['Rating'].plot.hist()"
   ]
  },
  {
   "cell_type": "code",
   "execution_count": 35,
   "metadata": {},
   "outputs": [
    {
     "data": {
      "text/plain": [
       "<matplotlib.axes._subplots.AxesSubplot at 0x14d42460820>"
      ]
     },
     "execution_count": 35,
     "metadata": {},
     "output_type": "execute_result"
    },
    {
     "data": {
      "image/png": "[encoded data removed]",
      "text/plain": [
       "<Figure size 432x288 with 1 Axes>"
      ]
     },
     "metadata": {
      "needs_background": "light"
     },
     "output_type": "display_data"
    }
   ],
   "source": [
    "df['Rating'].value_counts().sort_index().plot.area()\n",
    "df['Rating'].plot.hist()"
   ]
  },
  {
   "cell_type": "code",
   "execution_count": 36,
   "metadata": {},
   "outputs": [
    {
     "data": {
      "text/plain": [
       "<matplotlib.axes._subplots.AxesSubplot at 0x14d424cba00>"
      ]
     },
     "execution_count": 36,
     "metadata": {},
     "output_type": "execute_result"
    },
    {
     "data": {
      "image/png": "[encoded data removed]",
      "text/plain": [
       "<Figure size 432x288 with 1 Axes>"
      ]
     },
     "metadata": {
      "needs_background": "light"
     },
     "output_type": "display_data"
    }
   ],
   "source": [
    "#dos de seaborn\n",
    "sns.countplot(df['Rating'])"
   ]
  },
  {
   "cell_type": "code",
   "execution_count": 37,
   "metadata": {},
   "outputs": [
    {
     "data": {
      "text/plain": [
       "<matplotlib.axes._subplots.AxesSubplot at 0x14d42521a90>"
      ]
     },
     "execution_count": 37,
     "metadata": {},
     "output_type": "execute_result"
    },
    {
     "data": {
      "image/png": "[encoded data removed]",
      "text/plain": [
       "<Figure size 432x288 with 1 Axes>"
      ]
     },
     "metadata": {
      "needs_background": "light"
     },
     "output_type": "display_data"
    }
   ],
   "source": [
    "df[df['Rating'] > 0]['Rating'].value_counts().sort_index().plot.line()"
   ]
  },
  {
   "cell_type": "code",
   "execution_count": 38,
   "metadata": {},
   "outputs": [
    {
     "data": {
      "text/plain": [
       "<matplotlib.axes._subplots.AxesSubplot at 0x14d4257f850>"
      ]
     },
     "execution_count": 38,
     "metadata": {},
     "output_type": "execute_result"
    },
    {
     "data": {
      "image/png": "[encoded data removed]",
      "text/plain": [
       "<Figure size 432x288 with 1 Axes>"
      ]
     },
     "metadata": {
      "needs_background": "light"
     },
     "output_type": "display_data"
    }
   ],
   "source": [
    "sns.countplot(df['Rating'])\n",
    "df[df['Rating'] > 0]['Rating'].value_counts().sort_index().plot.line()"
   ]
  }
 ],
 "metadata": {
  "kernelspec": {
   "display_name": "Python 3",
   "language": "python",
   "name": "python3"
  },
  "language_info": {
   "codemirror_mode": {
    "name": "ipython",
    "version": 3
   },
   "file_extension": ".py",
   "mimetype": "text/x-python",
   "name": "python",
   "nbconvert_exporter": "python",
   "pygments_lexer": "ipython3",
   "version": "3.8.3"
  }
 },
 "nbformat": 4,
 "nbformat_minor": 4
}
